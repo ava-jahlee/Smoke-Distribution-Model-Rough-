{
 "cells": [
  {
   "cell_type": "code",
   "execution_count": 1,
   "id": "c19fe90b",
   "metadata": {},
   "outputs": [
    {
     "name": "stdout",
     "output_type": "stream",
     "text": [
      "Requirement already satisfied: pgmpy in c:\\users\\lablj\\anaconda3\\lib\\site-packages (0.1.20)\n",
      "Requirement already satisfied: scipy in c:\\users\\lablj\\anaconda3\\lib\\site-packages (from pgmpy) (1.9.1)\n",
      "Requirement already satisfied: pyparsing in c:\\users\\lablj\\anaconda3\\lib\\site-packages (from pgmpy) (3.0.9)\n",
      "Requirement already satisfied: networkx in c:\\users\\lablj\\anaconda3\\lib\\site-packages (from pgmpy) (2.8.4)\n",
      "Requirement already satisfied: pandas in c:\\users\\lablj\\anaconda3\\lib\\site-packages (from pgmpy) (1.4.4)\n",
      "Requirement already satisfied: scikit-learn in c:\\users\\lablj\\anaconda3\\lib\\site-packages (from pgmpy) (1.0.2)\n",
      "Requirement already satisfied: statsmodels in c:\\users\\lablj\\anaconda3\\lib\\site-packages (from pgmpy) (0.13.2)\n",
      "Requirement already satisfied: torch in c:\\users\\lablj\\anaconda3\\lib\\site-packages (from pgmpy) (1.13.0)\n",
      "Requirement already satisfied: numpy in c:\\users\\lablj\\anaconda3\\lib\\site-packages (from pgmpy) (1.21.5)\n",
      "Requirement already satisfied: joblib in c:\\users\\lablj\\anaconda3\\lib\\site-packages (from pgmpy) (1.1.0)\n",
      "Requirement already satisfied: tqdm in c:\\users\\lablj\\anaconda3\\lib\\site-packages (from pgmpy) (4.64.1)\n",
      "Requirement already satisfied: opt-einsum in c:\\users\\lablj\\anaconda3\\lib\\site-packages (from pgmpy) (3.3.0)\n",
      "Requirement already satisfied: pytz>=2020.1 in c:\\users\\lablj\\anaconda3\\lib\\site-packages (from pandas->pgmpy) (2022.1)\n",
      "Requirement already satisfied: python-dateutil>=2.8.1 in c:\\users\\lablj\\anaconda3\\lib\\site-packages (from pandas->pgmpy) (2.8.2)\n",
      "Requirement already satisfied: threadpoolctl>=2.0.0 in c:\\users\\lablj\\anaconda3\\lib\\site-packages (from scikit-learn->pgmpy) (2.2.0)\n",
      "Requirement already satisfied: patsy>=0.5.2 in c:\\users\\lablj\\anaconda3\\lib\\site-packages (from statsmodels->pgmpy) (0.5.2)\n",
      "Requirement already satisfied: packaging>=21.3 in c:\\users\\lablj\\anaconda3\\lib\\site-packages (from statsmodels->pgmpy) (21.3)\n",
      "Requirement already satisfied: typing-extensions in c:\\users\\lablj\\anaconda3\\lib\\site-packages (from torch->pgmpy) (4.3.0)\n",
      "Requirement already satisfied: colorama in c:\\users\\lablj\\anaconda3\\lib\\site-packages (from tqdm->pgmpy) (0.4.5)\n",
      "Requirement already satisfied: six in c:\\users\\lablj\\anaconda3\\lib\\site-packages (from patsy>=0.5.2->statsmodels->pgmpy) (1.16.0)\n",
      "Note: you may need to restart the kernel to use updated packages.\n"
     ]
    }
   ],
   "source": [
    "%pip install pgmpy\n",
    "\n",
    "from pgmpy.base import *\n",
    "from pgmpy.models import DynamicBayesianNetwork\n",
    "from pgmpy.inference import DBNInference, Inference\n",
    "from pgmpy.factors.discrete import TabularCPD\n",
    "import matplotlib.pyplot as plt\n",
    "import networkx as nx\n",
    "import math\n",
    "import numpy as np\n",
    "import pandas as pd\n",
    "import pprint"
   ]
  },
  {
   "cell_type": "code",
   "execution_count": 2,
   "id": "66cbd86e",
   "metadata": {},
   "outputs": [
    {
     "data": {
      "text/html": [
       "<div>\n",
       "<style scoped>\n",
       "    .dataframe tbody tr th:only-of-type {\n",
       "        vertical-align: middle;\n",
       "    }\n",
       "\n",
       "    .dataframe tbody tr th {\n",
       "        vertical-align: top;\n",
       "    }\n",
       "\n",
       "    .dataframe thead th {\n",
       "        text-align: right;\n",
       "    }\n",
       "</style>\n",
       "<table border=\"1\" class=\"dataframe\">\n",
       "  <thead>\n",
       "    <tr style=\"text-align: right;\">\n",
       "      <th></th>\n",
       "      <th>node name</th>\n",
       "    </tr>\n",
       "  </thead>\n",
       "  <tbody>\n",
       "    <tr>\n",
       "      <th>0</th>\n",
       "      <td>24</td>\n",
       "    </tr>\n",
       "    <tr>\n",
       "      <th>1</th>\n",
       "      <td>29</td>\n",
       "    </tr>\n",
       "    <tr>\n",
       "      <th>2</th>\n",
       "      <td>35</td>\n",
       "    </tr>\n",
       "    <tr>\n",
       "      <th>3</th>\n",
       "      <td>36</td>\n",
       "    </tr>\n",
       "    <tr>\n",
       "      <th>4</th>\n",
       "      <td>37</td>\n",
       "    </tr>\n",
       "    <tr>\n",
       "      <th>5</th>\n",
       "      <td>47</td>\n",
       "    </tr>\n",
       "    <tr>\n",
       "      <th>6</th>\n",
       "      <td>52</td>\n",
       "    </tr>\n",
       "    <tr>\n",
       "      <th>7</th>\n",
       "      <td>53</td>\n",
       "    </tr>\n",
       "    <tr>\n",
       "      <th>8</th>\n",
       "      <td>54</td>\n",
       "    </tr>\n",
       "    <tr>\n",
       "      <th>9</th>\n",
       "      <td>55</td>\n",
       "    </tr>\n",
       "    <tr>\n",
       "      <th>10</th>\n",
       "      <td>56</td>\n",
       "    </tr>\n",
       "    <tr>\n",
       "      <th>11</th>\n",
       "      <td>57</td>\n",
       "    </tr>\n",
       "    <tr>\n",
       "      <th>12</th>\n",
       "      <td>60</td>\n",
       "    </tr>\n",
       "    <tr>\n",
       "      <th>13</th>\n",
       "      <td>61</td>\n",
       "    </tr>\n",
       "    <tr>\n",
       "      <th>14</th>\n",
       "      <td>64</td>\n",
       "    </tr>\n",
       "    <tr>\n",
       "      <th>15</th>\n",
       "      <td>65</td>\n",
       "    </tr>\n",
       "  </tbody>\n",
       "</table>\n",
       "</div>"
      ],
      "text/plain": [
       "    node name\n",
       "0          24\n",
       "1          29\n",
       "2          35\n",
       "3          36\n",
       "4          37\n",
       "5          47\n",
       "6          52\n",
       "7          53\n",
       "8          54\n",
       "9          55\n",
       "10         56\n",
       "11         57\n",
       "12         60\n",
       "13         61\n",
       "14         64\n",
       "15         65"
      ]
     },
     "execution_count": 2,
     "metadata": {},
     "output_type": "execute_result"
    }
   ],
   "source": [
    "#np.warnings.filterwarnings('ignore')\n",
    "#np.seterr(invalid='ignore')\n",
    "\n",
    "###GBXML in graph\n",
    "DBN = DynamicBayesianNetwork()\n",
    "\n",
    "# 엑셀에서 모든 노드 읽어서 추가 및 DAG 작성\n",
    "node_data = pd.read_excel('nodedata/dbn_node_prob_1381.xlsx',\n",
    "                          sheet_name = 'Nodes')\n",
    "node_data"
   ]
  },
  {
   "cell_type": "code",
   "execution_count": 3,
   "id": "bf303e02",
   "metadata": {},
   "outputs": [
    {
     "name": "stdout",
     "output_type": "stream",
     "text": [
      "DynamicBayesianNetwork with 32 nodes and 16 edges\n"
     ]
    }
   ],
   "source": [
    "node_data\n",
    "nodes = node_data['node name']\n",
    "for node in nodes:\n",
    "    DBN.add_node(node)\n",
    "    DBN.add_edges_from([((node, 0), (node, 1))])\n",
    "print(DBN)"
   ]
  },
  {
   "cell_type": "code",
   "execution_count": 4,
   "id": "b20524fb",
   "metadata": {},
   "outputs": [
    {
     "name": "stdout",
     "output_type": "stream",
     "text": [
      "[36, 52, 53, 53, 54, 54, 54, 54, 55, 55, 56, 56, 57, 60, 60, 61, 64]\n",
      "[54, 60, 52, 61, 24, 35, 53, 55, 37, 56, 57, 64, 65, 29, 47, 60, 65]\n"
     ]
    }
   ],
   "source": [
    "DAG_data = pd.read_excel('nodedata/dbn_node_prob_1381.xlsx',\n",
    "                         sheet_name = 'DAG_prob')\n",
    "initial_nodes = DAG_data['Initial']\n",
    "final_nodes = DAG_data['Final']\n",
    "print(initial_nodes.tolist())\n",
    "print(final_nodes.tolist())\n",
    "\n",
    "if len(initial_nodes) != len(final_nodes):\n",
    "    raise ValueError('Nodes Length Error')"
   ]
  },
  {
   "cell_type": "code",
   "execution_count": 5,
   "id": "82c50d39",
   "metadata": {},
   "outputs": [],
   "source": [
    "for num in range(len(initial_nodes)):\n",
    "    ininode = initial_nodes[num]\n",
    "    finnode = final_nodes[num]\n",
    "    DBN.add_edges_from([((ininode, 0), (finnode, 0))])"
   ]
  },
  {
   "cell_type": "code",
   "execution_count": 6,
   "id": "45cc7fbc",
   "metadata": {},
   "outputs": [
    {
     "name": "stdout",
     "output_type": "stream",
     "text": [
      "[[<DynamicNode(24, 0) at 0x2b29413abb0>, <DynamicNode(24, 1) at 0x2b29413f760>], [<DynamicNode(29, 0) at 0x2b29413f1c0>, <DynamicNode(29, 1) at 0x2b29413f2e0>], [<DynamicNode(35, 0) at 0x2b29413faf0>, <DynamicNode(35, 1) at 0x2b29413f430>], [<DynamicNode(36, 0) at 0x2b29413f250>, <DynamicNode(36, 1) at 0x2b29413f880>], [<DynamicNode(36, 0) at 0x2b29413f250>, <DynamicNode(54, 0) at 0x2b286716070>], [<DynamicNode(36, 1) at 0x2b29413f880>, <DynamicNode(54, 1) at 0x2b2867165e0>], [<DynamicNode(37, 0) at 0x2b29413f550>, <DynamicNode(37, 1) at 0x2b29413f3a0>], [<DynamicNode(47, 0) at 0x2b29413fa60>, <DynamicNode(47, 1) at 0x2b29413fbb0>], [<DynamicNode(52, 0) at 0x2b29413f070>, <DynamicNode(52, 1) at 0x2b29413f8b0>], [<DynamicNode(52, 0) at 0x2b29413f070>, <DynamicNode(60, 0) at 0x2b2867165b0>], [<DynamicNode(52, 1) at 0x2b29413f8b0>, <DynamicNode(60, 1) at 0x2b29414dac0>], [<DynamicNode(53, 0) at 0x2b29413fb50>, <DynamicNode(53, 1) at 0x2b29413f6a0>], [<DynamicNode(53, 0) at 0x2b29413fb50>, <DynamicNode(52, 0) at 0x2b29414df40>], [<DynamicNode(53, 0) at 0x2b29413fb50>, <DynamicNode(61, 0) at 0x2b294225160>], [<DynamicNode(53, 1) at 0x2b29413f6a0>, <DynamicNode(52, 1) at 0x2b29414dee0>], [<DynamicNode(53, 1) at 0x2b29413f6a0>, <DynamicNode(61, 1) at 0x2b2942250d0>], [<DynamicNode(54, 0) at 0x2b29413ff40>, <DynamicNode(54, 1) at 0x2b2941464c0>], [<DynamicNode(54, 0) at 0x2b29413ff40>, <DynamicNode(24, 0) at 0x2b294225340>], [<DynamicNode(54, 0) at 0x2b29413ff40>, <DynamicNode(35, 0) at 0x2b294225250>], [<DynamicNode(54, 0) at 0x2b29413ff40>, <DynamicNode(53, 0) at 0x2b29413ae80>], [<DynamicNode(54, 0) at 0x2b29413ff40>, <DynamicNode(55, 0) at 0x2b294259430>], [<DynamicNode(54, 1) at 0x2b2941464c0>, <DynamicNode(24, 1) at 0x2b294225310>], [<DynamicNode(54, 1) at 0x2b2941464c0>, <DynamicNode(35, 1) at 0x2b29413ac70>], [<DynamicNode(54, 1) at 0x2b2941464c0>, <DynamicNode(53, 1) at 0x2b29413aac0>], [<DynamicNode(54, 1) at 0x2b2941464c0>, <DynamicNode(55, 1) at 0x2b2942594f0>], [<DynamicNode(55, 0) at 0x2b2941464f0>, <DynamicNode(55, 1) at 0x2b294146280>], [<DynamicNode(55, 0) at 0x2b2941464f0>, <DynamicNode(37, 0) at 0x2b294259670>], [<DynamicNode(55, 0) at 0x2b2941464f0>, <DynamicNode(56, 0) at 0x2b294259f70>], [<DynamicNode(55, 1) at 0x2b294146280>, <DynamicNode(37, 1) at 0x2b2942599a0>], [<DynamicNode(55, 1) at 0x2b294146280>, <DynamicNode(56, 1) at 0x2b294259e50>], [<DynamicNode(56, 0) at 0x2b294146400>, <DynamicNode(56, 1) at 0x2b294146250>], [<DynamicNode(56, 0) at 0x2b294146400>, <DynamicNode(57, 0) at 0x2b294259fd0>], [<DynamicNode(56, 0) at 0x2b294146400>, <DynamicNode(64, 0) at 0x2b294259df0>], [<DynamicNode(56, 1) at 0x2b294146250>, <DynamicNode(57, 1) at 0x2b294259ee0>], [<DynamicNode(56, 1) at 0x2b294146250>, <DynamicNode(64, 1) at 0x2b294259d30>], [<DynamicNode(57, 0) at 0x2b294146370>, <DynamicNode(57, 1) at 0x2b294146430>], [<DynamicNode(57, 0) at 0x2b294146370>, <DynamicNode(65, 0) at 0x2b294259910>], [<DynamicNode(57, 1) at 0x2b294146430>, <DynamicNode(65, 1) at 0x2b294259460>], [<DynamicNode(60, 0) at 0x2b294146c40>, <DynamicNode(60, 1) at 0x2b294146190>], [<DynamicNode(60, 0) at 0x2b294146c40>, <DynamicNode(29, 0) at 0x2b294259be0>], [<DynamicNode(60, 0) at 0x2b294146c40>, <DynamicNode(47, 0) at 0x2b2942593a0>], [<DynamicNode(60, 1) at 0x2b294146190>, <DynamicNode(29, 1) at 0x2b294259c70>], [<DynamicNode(60, 1) at 0x2b294146190>, <DynamicNode(47, 1) at 0x2b294262310>], [<DynamicNode(61, 0) at 0x2b294146100>, <DynamicNode(61, 1) at 0x2b294146be0>], [<DynamicNode(61, 0) at 0x2b294146100>, <DynamicNode(60, 0) at 0x2b2942623d0>], [<DynamicNode(61, 1) at 0x2b294146be0>, <DynamicNode(60, 1) at 0x2b294262520>], [<DynamicNode(64, 0) at 0x2b294146c70>, <DynamicNode(64, 1) at 0x2b294146f70>], [<DynamicNode(64, 0) at 0x2b294146c70>, <DynamicNode(65, 0) at 0x2b2942625e0>], [<DynamicNode(64, 1) at 0x2b294146f70>, <DynamicNode(65, 1) at 0x2b2942626a0>], [<DynamicNode(65, 0) at 0x2b294146b80>, <DynamicNode(65, 1) at 0x2b29414d580>]]\n"
     ]
    }
   ],
   "source": [
    "dNodes = DBN.nodes\n",
    "dEdges = DBN.edges\n",
    "#그래프로부터 edge 목록 읽어오기\n",
    "edgeList = []\n",
    "for ed in dEdges:\n",
    "    changeToList = list(ed)\n",
    "    edgeList.append(changeToList)\n",
    "                    \n",
    "print(edgeList)"
   ]
  },
  {
   "cell_type": "code",
   "execution_count": 7,
   "id": "ebcd9d15",
   "metadata": {},
   "outputs": [],
   "source": [
    "# 필요한 conditional probability distribution 목록을 나열\n",
    "totalEdge = edgeList\n",
    "evidenceList, variableList = [], []\n",
    "for nodes in dNodes:\n",
    "    for edges in totalEdge:\n",
    "        if edges[1] == nodes:\n",
    "            variableList.append(edges[1])\n",
    "            evidenceList.append(edges[0])\n",
    "        else:\n",
    "            pass"
   ]
  },
  {
   "cell_type": "code",
   "execution_count": 8,
   "id": "fd82b385",
   "metadata": {},
   "outputs": [
    {
     "name": "stdout",
     "output_type": "stream",
     "text": [
      "[<DynamicNode(24, 0) at 0x2b294225340>, <DynamicNode(24, 1) at 0x2b29413f760>, <DynamicNode(29, 0) at 0x2b294259be0>, <DynamicNode(29, 1) at 0x2b29413f2e0>, <DynamicNode(35, 0) at 0x2b294225250>, <DynamicNode(35, 1) at 0x2b29413f430>, <DynamicNode(36, 1) at 0x2b29413f880>, <DynamicNode(37, 0) at 0x2b294259670>, <DynamicNode(37, 1) at 0x2b29413f3a0>, <DynamicNode(47, 0) at 0x2b2942593a0>, <DynamicNode(47, 1) at 0x2b29413fbb0>, <DynamicNode(52, 0) at 0x2b29414df40>, <DynamicNode(52, 1) at 0x2b29413f8b0>, <DynamicNode(53, 0) at 0x2b29413ae80>, <DynamicNode(53, 1) at 0x2b29413f6a0>, <DynamicNode(54, 0) at 0x2b286716070>, <DynamicNode(54, 1) at 0x2b2867165e0>, <DynamicNode(55, 0) at 0x2b294259430>, <DynamicNode(55, 1) at 0x2b2942594f0>, <DynamicNode(56, 0) at 0x2b294259f70>, <DynamicNode(56, 1) at 0x2b294259e50>, <DynamicNode(57, 0) at 0x2b294259fd0>, <DynamicNode(57, 1) at 0x2b294259ee0>, <DynamicNode(60, 0) at 0x2b2867165b0>, <DynamicNode(60, 1) at 0x2b29414dac0>, <DynamicNode(61, 0) at 0x2b294225160>, <DynamicNode(61, 1) at 0x2b2942250d0>, <DynamicNode(64, 0) at 0x2b294259df0>, <DynamicNode(64, 1) at 0x2b294259d30>, <DynamicNode(65, 0) at 0x2b294259910>, <DynamicNode(65, 1) at 0x2b294259460>]\n"
     ]
    }
   ],
   "source": [
    "variableSet = []\n",
    "for x in variableList:\n",
    "    if x not in variableSet:\n",
    "        variableSet.append(x)\n",
    "#variableSet = l#variableList 중복제거한 List\n",
    "print(variableSet)\n",
    "lastVariableList, lastEvidenceList, tabCPDList = [], [], []"
   ]
  },
  {
   "cell_type": "code",
   "execution_count": 9,
   "id": "6f2b5715",
   "metadata": {},
   "outputs": [
    {
     "name": "stdout",
     "output_type": "stream",
     "text": [
      "You need *CPD(s)* for:\n",
      "P( (24, 0) | ['(54, 0)'] )\n",
      "P( (24, 1) | ['(24, 0)', '(54, 1)'] )\n",
      "P( (29, 0) | ['(60, 0)'] )\n",
      "P( (29, 1) | ['(29, 0)', '(60, 1)'] )\n",
      "P( (35, 0) | ['(54, 0)'] )\n",
      "P( (35, 1) | ['(35, 0)', '(54, 1)'] )\n",
      "P( (36, 1) | ['(36, 0)'] )\n",
      "P( (37, 0) | ['(55, 0)'] )\n",
      "P( (37, 1) | ['(37, 0)', '(55, 1)'] )\n",
      "P( (47, 0) | ['(60, 0)'] )\n",
      "P( (47, 1) | ['(47, 0)', '(60, 1)'] )\n",
      "P( (52, 0) | ['(53, 0)'] )\n",
      "P( (52, 1) | ['(52, 0)', '(53, 1)'] )\n",
      "P( (53, 0) | ['(54, 0)'] )\n",
      "P( (53, 1) | ['(53, 0)', '(54, 1)'] )\n",
      "P( (54, 0) | ['(36, 0)'] )\n",
      "P( (54, 1) | ['(36, 1)', '(54, 0)'] )\n",
      "P( (55, 0) | ['(54, 0)'] )\n",
      "P( (55, 1) | ['(54, 1)', '(55, 0)'] )\n",
      "P( (56, 0) | ['(55, 0)'] )\n",
      "P( (56, 1) | ['(55, 1)', '(56, 0)'] )\n",
      "P( (57, 0) | ['(56, 0)'] )\n",
      "P( (57, 1) | ['(56, 1)', '(57, 0)'] )\n",
      "P( (60, 0) | ['(52, 0)', '(61, 0)'] )\n",
      "P( (60, 1) | ['(52, 1)', '(60, 0)', '(61, 1)'] )\n",
      "P( (61, 0) | ['(53, 0)'] )\n",
      "P( (61, 1) | ['(53, 1)', '(61, 0)'] )\n",
      "P( (64, 0) | ['(56, 0)'] )\n",
      "P( (64, 1) | ['(56, 1)', '(64, 0)'] )\n",
      "P( (65, 0) | ['(57, 0)', '(64, 0)'] )\n",
      "P( (65, 1) | ['(57, 1)', '(64, 1)', '(65, 0)'] )\n"
     ]
    }
   ],
   "source": [
    "print('You need *CPD(s)* for:')\n",
    "for vS in variableSet:\n",
    "    lastVariableList.append(vS)\n",
    "    indexList = list(filter(lambda x: variableList[x] == vS, range(len(variableList))))\n",
    "    specifiedVAREVIs = []\n",
    "    for index in indexList:\n",
    "        specifiedVAREVIs.append(str(\"(\")+str(evidenceList[index]).split(\"(\")[1].split(\")\")[0]+str(\")\"))\n",
    "    lastEvidenceList.append(specifiedVAREVIs)\n",
    "    print('P(', vS, '|', specifiedVAREVIs, ')')"
   ]
  },
  {
   "cell_type": "code",
   "execution_count": 10,
   "id": "49af5252",
   "metadata": {},
   "outputs": [
    {
     "name": "stdout",
     "output_type": "stream",
     "text": [
      "\n",
      "\n",
      "! Please enter the proper *CPDs*, 4 for:\n",
      "P( (24, 0) | ['(54, 0)'] )\n",
      "\n"
     ]
    },
    {
     "ename": "FileNotFoundError",
     "evalue": "[Errno 2] No such file or directory: ''",
     "output_type": "error",
     "traceback": [
      "\u001b[1;31m---------------------------------------------------------------------------\u001b[0m",
      "\u001b[1;31mFileNotFoundError\u001b[0m                         Traceback (most recent call last)",
      "\u001b[1;32m~\\AppData\\Local\\Temp\\ipykernel_44672\\2382765814.py\u001b[0m in \u001b[0;36m<module>\u001b[1;34m\u001b[0m\n\u001b[0;32m      6\u001b[0m \u001b[1;33m\u001b[0m\u001b[0m\n\u001b[0;32m      7\u001b[0m \u001b[1;33m\u001b[0m\u001b[0m\n\u001b[1;32m----> 8\u001b[1;33m     node_data = pd.read_excel(str(input()),\n\u001b[0m\u001b[0;32m      9\u001b[0m                               \u001b[0msheet_name\u001b[0m\u001b[1;33m=\u001b[0m\u001b[1;34m'Probability'\u001b[0m\u001b[1;33m,\u001b[0m\u001b[1;33m\u001b[0m\u001b[1;33m\u001b[0m\u001b[0m\n\u001b[0;32m     10\u001b[0m                               names=['list','CPT'])\n",
      "\u001b[1;32m~\\anaconda3\\lib\\site-packages\\pandas\\util\\_decorators.py\u001b[0m in \u001b[0;36mwrapper\u001b[1;34m(*args, **kwargs)\u001b[0m\n\u001b[0;32m    309\u001b[0m                     \u001b[0mstacklevel\u001b[0m\u001b[1;33m=\u001b[0m\u001b[0mstacklevel\u001b[0m\u001b[1;33m,\u001b[0m\u001b[1;33m\u001b[0m\u001b[1;33m\u001b[0m\u001b[0m\n\u001b[0;32m    310\u001b[0m                 )\n\u001b[1;32m--> 311\u001b[1;33m             \u001b[1;32mreturn\u001b[0m \u001b[0mfunc\u001b[0m\u001b[1;33m(\u001b[0m\u001b[1;33m*\u001b[0m\u001b[0margs\u001b[0m\u001b[1;33m,\u001b[0m \u001b[1;33m**\u001b[0m\u001b[0mkwargs\u001b[0m\u001b[1;33m)\u001b[0m\u001b[1;33m\u001b[0m\u001b[1;33m\u001b[0m\u001b[0m\n\u001b[0m\u001b[0;32m    312\u001b[0m \u001b[1;33m\u001b[0m\u001b[0m\n\u001b[0;32m    313\u001b[0m         \u001b[1;32mreturn\u001b[0m \u001b[0mwrapper\u001b[0m\u001b[1;33m\u001b[0m\u001b[1;33m\u001b[0m\u001b[0m\n",
      "\u001b[1;32m~\\anaconda3\\lib\\site-packages\\pandas\\io\\excel\\_base.py\u001b[0m in \u001b[0;36mread_excel\u001b[1;34m(io, sheet_name, header, names, index_col, usecols, squeeze, dtype, engine, converters, true_values, false_values, skiprows, nrows, na_values, keep_default_na, na_filter, verbose, parse_dates, date_parser, thousands, decimal, comment, skipfooter, convert_float, mangle_dupe_cols, storage_options)\u001b[0m\n\u001b[0;32m    455\u001b[0m     \u001b[1;32mif\u001b[0m \u001b[1;32mnot\u001b[0m \u001b[0misinstance\u001b[0m\u001b[1;33m(\u001b[0m\u001b[0mio\u001b[0m\u001b[1;33m,\u001b[0m \u001b[0mExcelFile\u001b[0m\u001b[1;33m)\u001b[0m\u001b[1;33m:\u001b[0m\u001b[1;33m\u001b[0m\u001b[1;33m\u001b[0m\u001b[0m\n\u001b[0;32m    456\u001b[0m         \u001b[0mshould_close\u001b[0m \u001b[1;33m=\u001b[0m \u001b[1;32mTrue\u001b[0m\u001b[1;33m\u001b[0m\u001b[1;33m\u001b[0m\u001b[0m\n\u001b[1;32m--> 457\u001b[1;33m         \u001b[0mio\u001b[0m \u001b[1;33m=\u001b[0m \u001b[0mExcelFile\u001b[0m\u001b[1;33m(\u001b[0m\u001b[0mio\u001b[0m\u001b[1;33m,\u001b[0m \u001b[0mstorage_options\u001b[0m\u001b[1;33m=\u001b[0m\u001b[0mstorage_options\u001b[0m\u001b[1;33m,\u001b[0m \u001b[0mengine\u001b[0m\u001b[1;33m=\u001b[0m\u001b[0mengine\u001b[0m\u001b[1;33m)\u001b[0m\u001b[1;33m\u001b[0m\u001b[1;33m\u001b[0m\u001b[0m\n\u001b[0m\u001b[0;32m    458\u001b[0m     \u001b[1;32melif\u001b[0m \u001b[0mengine\u001b[0m \u001b[1;32mand\u001b[0m \u001b[0mengine\u001b[0m \u001b[1;33m!=\u001b[0m \u001b[0mio\u001b[0m\u001b[1;33m.\u001b[0m\u001b[0mengine\u001b[0m\u001b[1;33m:\u001b[0m\u001b[1;33m\u001b[0m\u001b[1;33m\u001b[0m\u001b[0m\n\u001b[0;32m    459\u001b[0m         raise ValueError(\n",
      "\u001b[1;32m~\\anaconda3\\lib\\site-packages\\pandas\\io\\excel\\_base.py\u001b[0m in \u001b[0;36m__init__\u001b[1;34m(self, path_or_buffer, engine, storage_options)\u001b[0m\n\u001b[0;32m   1374\u001b[0m                 \u001b[0mext\u001b[0m \u001b[1;33m=\u001b[0m \u001b[1;34m\"xls\"\u001b[0m\u001b[1;33m\u001b[0m\u001b[1;33m\u001b[0m\u001b[0m\n\u001b[0;32m   1375\u001b[0m             \u001b[1;32melse\u001b[0m\u001b[1;33m:\u001b[0m\u001b[1;33m\u001b[0m\u001b[1;33m\u001b[0m\u001b[0m\n\u001b[1;32m-> 1376\u001b[1;33m                 ext = inspect_excel_format(\n\u001b[0m\u001b[0;32m   1377\u001b[0m                     \u001b[0mcontent_or_path\u001b[0m\u001b[1;33m=\u001b[0m\u001b[0mpath_or_buffer\u001b[0m\u001b[1;33m,\u001b[0m \u001b[0mstorage_options\u001b[0m\u001b[1;33m=\u001b[0m\u001b[0mstorage_options\u001b[0m\u001b[1;33m\u001b[0m\u001b[1;33m\u001b[0m\u001b[0m\n\u001b[0;32m   1378\u001b[0m                 )\n",
      "\u001b[1;32m~\\anaconda3\\lib\\site-packages\\pandas\\io\\excel\\_base.py\u001b[0m in \u001b[0;36minspect_excel_format\u001b[1;34m(content_or_path, storage_options)\u001b[0m\n\u001b[0;32m   1248\u001b[0m         \u001b[0mcontent_or_path\u001b[0m \u001b[1;33m=\u001b[0m \u001b[0mBytesIO\u001b[0m\u001b[1;33m(\u001b[0m\u001b[0mcontent_or_path\u001b[0m\u001b[1;33m)\u001b[0m\u001b[1;33m\u001b[0m\u001b[1;33m\u001b[0m\u001b[0m\n\u001b[0;32m   1249\u001b[0m \u001b[1;33m\u001b[0m\u001b[0m\n\u001b[1;32m-> 1250\u001b[1;33m     with get_handle(\n\u001b[0m\u001b[0;32m   1251\u001b[0m         \u001b[0mcontent_or_path\u001b[0m\u001b[1;33m,\u001b[0m \u001b[1;34m\"rb\"\u001b[0m\u001b[1;33m,\u001b[0m \u001b[0mstorage_options\u001b[0m\u001b[1;33m=\u001b[0m\u001b[0mstorage_options\u001b[0m\u001b[1;33m,\u001b[0m \u001b[0mis_text\u001b[0m\u001b[1;33m=\u001b[0m\u001b[1;32mFalse\u001b[0m\u001b[1;33m\u001b[0m\u001b[1;33m\u001b[0m\u001b[0m\n\u001b[0;32m   1252\u001b[0m     ) as handle:\n",
      "\u001b[1;32m~\\anaconda3\\lib\\site-packages\\pandas\\io\\common.py\u001b[0m in \u001b[0;36mget_handle\u001b[1;34m(path_or_buf, mode, encoding, compression, memory_map, is_text, errors, storage_options)\u001b[0m\n\u001b[0;32m    793\u001b[0m         \u001b[1;32melse\u001b[0m\u001b[1;33m:\u001b[0m\u001b[1;33m\u001b[0m\u001b[1;33m\u001b[0m\u001b[0m\n\u001b[0;32m    794\u001b[0m             \u001b[1;31m# Binary mode\u001b[0m\u001b[1;33m\u001b[0m\u001b[1;33m\u001b[0m\u001b[0m\n\u001b[1;32m--> 795\u001b[1;33m             \u001b[0mhandle\u001b[0m \u001b[1;33m=\u001b[0m \u001b[0mopen\u001b[0m\u001b[1;33m(\u001b[0m\u001b[0mhandle\u001b[0m\u001b[1;33m,\u001b[0m \u001b[0mioargs\u001b[0m\u001b[1;33m.\u001b[0m\u001b[0mmode\u001b[0m\u001b[1;33m)\u001b[0m\u001b[1;33m\u001b[0m\u001b[1;33m\u001b[0m\u001b[0m\n\u001b[0m\u001b[0;32m    796\u001b[0m         \u001b[0mhandles\u001b[0m\u001b[1;33m.\u001b[0m\u001b[0mappend\u001b[0m\u001b[1;33m(\u001b[0m\u001b[0mhandle\u001b[0m\u001b[1;33m)\u001b[0m\u001b[1;33m\u001b[0m\u001b[1;33m\u001b[0m\u001b[0m\n\u001b[0;32m    797\u001b[0m \u001b[1;33m\u001b[0m\u001b[0m\n",
      "\u001b[1;31mFileNotFoundError\u001b[0m: [Errno 2] No such file or directory: ''"
     ]
    }
   ],
   "source": [
    "for vS in range(len(lastVariableList)):\n",
    "    # tabularCPD 작성 반자동\n",
    "    print('! Please enter the proper *CPDs*,', 2*(2**len(lastEvidenceList[vS])) ,'for:')\n",
    "    print('P(', lastVariableList[vS], '|', lastEvidenceList[vS], ')')\n",
    "\n",
    "    cpdInput = list(map(float, input().split())) # 한줄로 cpd를 입력받기 (예시: 0.1 0.2 0.1 0.5 0.3 0.2 0.1)\n",
    "    if len(cpdInput) != 2*(2**len(lastEvidenceList[vS])) :\n",
    "        raise Exception('Error: You *MUST* enter', 2*(2**len(lastEvidenceList[vS])), 'cpd!')\n",
    "\n",
    "    halfCPDInput = math.floor(len(cpdInput) / 2)\n",
    "    cpdPacked1 = []\n",
    "    cpdPacked2 = []\n",
    "    for num in range(halfCPDInput):\n",
    "        cpdPacked1.append(cpdInput[num])\n",
    "    for num2 in range(halfCPDInput, len(cpdInput)):\n",
    "        cpdPacked2.append(cpdInput[num2])\n",
    "\n",
    "    nums = []\n",
    "    for n in range(len(lastEvidenceList[vS])):\n",
    "        nums.append(2)\n",
    "\n",
    "    cpd = TabularCPD(lastVariableList[vS],\n",
    "                    2,[cpdPacked1, cpdPacked2],\n",
    "                    evidence=lastEvidenceList[vS],\n",
    "                    evidence_card=nums)\n",
    "\n",
    "    DBN.add_cpds(cpd)\n",
    "    tabCPDList.append(cpd)\n",
    "    print(cpd)\n",
    "\n"
   ]
  },
  {
   "cell_type": "code",
   "execution_count": null,
   "id": "9f95c530",
   "metadata": {},
   "outputs": [],
   "source": [
    "print('Root probability of (36, 0)')\n",
    "root_cpd = TabularCPD((36, 0), 2, [[1], [0]])\n",
    "DBN.add_cpds(root_cpd)\n",
    "print(root_cpd, '\\n')\n",
    "\n",
    "pprint.pprint(tabCPDList)\n",
    "# Check the model\n",
    "DBN.initialize_initial_state()   ##이걸 안하면 value error 뜸.. 'No CPD associated with aim0030_0'\n",
    "DBN.check_model()"
   ]
  },
  {
   "cell_type": "code",
   "execution_count": null,
   "id": "f01abe26",
   "metadata": {},
   "outputs": [],
   "source": [
    "print(DBN)\n",
    "map = {0: 'YES', 1: 'NO'}\n",
    "dbn_inf = DBNInference(DBN)"
   ]
  }
 ],
 "metadata": {
  "kernelspec": {
   "display_name": "Python 3 (ipykernel)",
   "language": "python",
   "name": "python3"
  },
  "language_info": {
   "codemirror_mode": {
    "name": "ipython",
    "version": 3
   },
   "file_extension": ".py",
   "mimetype": "text/x-python",
   "name": "python",
   "nbconvert_exporter": "python",
   "pygments_lexer": "ipython3",
   "version": "3.9.13"
  }
 },
 "nbformat": 4,
 "nbformat_minor": 5
}
