{
 "cells": [
  {
   "cell_type": "code",
   "execution_count": 74,
   "id": "52e778a6",
   "metadata": {},
   "outputs": [],
   "source": [
    "import pandas as pd\n",
    "import math\n",
    "\n",
    "prob_data = pd.read_excel('dbn_node_prob_1381.xlsx',\n",
    "                              sheet_name='Probability',\n",
    "                              names=['list', 'CPT'])"
   ]
  },
  {
   "cell_type": "code",
   "execution_count": 75,
   "id": "ccfd1323",
   "metadata": {},
   "outputs": [],
   "source": [
    "cpdInput = list(map(lambda x: x.split(), prob_data['CPT']))"
   ]
  },
  {
   "cell_type": "code",
   "execution_count": 76,
   "id": "78ba99a0",
   "metadata": {},
   "outputs": [
    {
     "data": {
      "text/plain": [
       "2"
      ]
     },
     "execution_count": 76,
     "metadata": {},
     "output_type": "execute_result"
    }
   ],
   "source": [
    "halfCPDInput = math.floor(len(cpdInput[0])/2)\n",
    "halfCPDInput"
   ]
  },
  {
   "cell_type": "code",
   "execution_count": 87,
   "id": "0d29785f",
   "metadata": {},
   "outputs": [],
   "source": [
    "cpdPacked1 = []\n",
    "cpdPacked2 = []\n",
    "for num in range(halfCPDInput):\n",
    "    cpdPacked1.append(float(cpdInput[0][num]))\n",
    "for num2 in range(halfCPDInput, len(cpdInput[0])):\n",
    "    cpdPacked2.append(cpdInput[0][num2])"
   ]
  },
  {
   "cell_type": "code",
   "execution_count": 84,
   "id": "47787fbd",
   "metadata": {},
   "outputs": [
    {
     "data": {
      "text/plain": [
       "['0.4142', '0']"
      ]
     },
     "execution_count": 84,
     "metadata": {},
     "output_type": "execute_result"
    }
   ],
   "source": [
    "cpdPacked1"
   ]
  },
  {
   "cell_type": "code",
   "execution_count": null,
   "id": "1d1d513e",
   "metadata": {},
   "outputs": [],
   "source": []
  }
 ],
 "metadata": {
  "kernelspec": {
   "display_name": "Python 3 (ipykernel)",
   "language": "python",
   "name": "python3"
  },
  "language_info": {
   "codemirror_mode": {
    "name": "ipython",
    "version": 3
   },
   "file_extension": ".py",
   "mimetype": "text/x-python",
   "name": "python",
   "nbconvert_exporter": "python",
   "pygments_lexer": "ipython3",
   "version": "3.9.13"
  }
 },
 "nbformat": 4,
 "nbformat_minor": 5
}
